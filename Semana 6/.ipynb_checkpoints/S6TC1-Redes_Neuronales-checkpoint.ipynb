{
 "cells": [
  {
   "cell_type": "markdown",
   "metadata": {},
   "source": [
    "![image info](https://raw.githubusercontent.com/albahnsen/MIAD_ML_and_NLP/main/images/banner_1.png)"
   ]
  },
  {
   "cell_type": "markdown",
   "metadata": {},
   "source": [
    "# Taller: Redes Neuronales\n",
    "\n",
    "En este taller podrán poner en práctica sus conocimientos sobre la construcción e implementación de redes neuronales de una capa y multicapa. El taller está constituido por 4 puntos, en los cuales deberan seguir las intrucciones de cada numeral para su desarrollo."
   ]
  },
  {
   "cell_type": "markdown",
   "metadata": {},
   "source": [
    "## Datos predicción probabilidad de admisión a la universidad\n",
    "\n",
    "En este taller se usará el conjunto de datos de admisiones a una universidad proveniente de la base de datos de Kaggle. Cada observación contiene la probabilidad de que un estudiante sea admitido por la universidad, dadas distintas variables predictoras como el puntaje del examén TOEFL y GRE, el promedio (GPA), entre otras. El objetivo es predecir la probabilidad de admissión de cada estudiante. Para más detalles pueden visitar el siguiente enlace: [datos](https://www.kaggle.com/mohansacharya/graduate-admissions)."
   ]
  },
  {
   "cell_type": "code",
   "execution_count": 1,
   "metadata": {},
   "outputs": [],
   "source": [
    "import warnings\n",
    "warnings.filterwarnings('ignore')"
   ]
  },
  {
   "cell_type": "code",
   "execution_count": 2,
   "metadata": {},
   "outputs": [],
   "source": [
    "# Importación librerías\n",
    "import numpy as np\n",
    "import keras \n",
    "import pandas as pd\n",
    "import matplotlib.pyplot as plt\n",
    "%matplotlib inline\n",
    "\n",
    "from sklearn.model_selection import train_test_split\n",
    "from keras import initializers\n",
    "from keras import optimizers\n",
    "from keras.models import Sequential\n",
    "from keras.layers import Dense\n",
    "from keras.layers import Dropout\n",
    "from keras import backend as K\n",
    "from livelossplot import PlotLossesKeras\n",
    "from sklearn.preprocessing import StandardScaler\n",
    "from sklearn.model_selection import train_test_split\n",
    "from keras.callbacks import EarlyStopping, ModelCheckpoint"
   ]
  },
  {
   "cell_type": "code",
   "execution_count": 3,
   "metadata": {},
   "outputs": [
    {
     "data": {
      "text/html": [
       "<div>\n",
       "<style scoped>\n",
       "    .dataframe tbody tr th:only-of-type {\n",
       "        vertical-align: middle;\n",
       "    }\n",
       "\n",
       "    .dataframe tbody tr th {\n",
       "        vertical-align: top;\n",
       "    }\n",
       "\n",
       "    .dataframe thead th {\n",
       "        text-align: right;\n",
       "    }\n",
       "</style>\n",
       "<table border=\"1\" class=\"dataframe\">\n",
       "  <thead>\n",
       "    <tr style=\"text-align: right;\">\n",
       "      <th></th>\n",
       "      <th>GRE Score</th>\n",
       "      <th>TOEFL Score</th>\n",
       "      <th>University Rating</th>\n",
       "      <th>SOP</th>\n",
       "      <th>LOR</th>\n",
       "      <th>CGPA</th>\n",
       "      <th>Research</th>\n",
       "      <th>Chance of Admit</th>\n",
       "    </tr>\n",
       "    <tr>\n",
       "      <th>Serial No.</th>\n",
       "      <th></th>\n",
       "      <th></th>\n",
       "      <th></th>\n",
       "      <th></th>\n",
       "      <th></th>\n",
       "      <th></th>\n",
       "      <th></th>\n",
       "      <th></th>\n",
       "    </tr>\n",
       "  </thead>\n",
       "  <tbody>\n",
       "    <tr>\n",
       "      <th>1</th>\n",
       "      <td>337</td>\n",
       "      <td>118</td>\n",
       "      <td>4</td>\n",
       "      <td>4.5</td>\n",
       "      <td>4.5</td>\n",
       "      <td>9.65</td>\n",
       "      <td>1</td>\n",
       "      <td>0.92</td>\n",
       "    </tr>\n",
       "    <tr>\n",
       "      <th>2</th>\n",
       "      <td>324</td>\n",
       "      <td>107</td>\n",
       "      <td>4</td>\n",
       "      <td>4.0</td>\n",
       "      <td>4.5</td>\n",
       "      <td>8.87</td>\n",
       "      <td>1</td>\n",
       "      <td>0.76</td>\n",
       "    </tr>\n",
       "    <tr>\n",
       "      <th>3</th>\n",
       "      <td>316</td>\n",
       "      <td>104</td>\n",
       "      <td>3</td>\n",
       "      <td>3.0</td>\n",
       "      <td>3.5</td>\n",
       "      <td>8.00</td>\n",
       "      <td>1</td>\n",
       "      <td>0.72</td>\n",
       "    </tr>\n",
       "    <tr>\n",
       "      <th>4</th>\n",
       "      <td>322</td>\n",
       "      <td>110</td>\n",
       "      <td>3</td>\n",
       "      <td>3.5</td>\n",
       "      <td>2.5</td>\n",
       "      <td>8.67</td>\n",
       "      <td>1</td>\n",
       "      <td>0.80</td>\n",
       "    </tr>\n",
       "    <tr>\n",
       "      <th>5</th>\n",
       "      <td>314</td>\n",
       "      <td>103</td>\n",
       "      <td>2</td>\n",
       "      <td>2.0</td>\n",
       "      <td>3.0</td>\n",
       "      <td>8.21</td>\n",
       "      <td>0</td>\n",
       "      <td>0.65</td>\n",
       "    </tr>\n",
       "  </tbody>\n",
       "</table>\n",
       "</div>"
      ],
      "text/plain": [
       "            GRE Score  TOEFL Score  University Rating  SOP  LOR   CGPA  \\\n",
       "Serial No.                                                               \n",
       "1                 337          118                  4  4.5   4.5  9.65   \n",
       "2                 324          107                  4  4.0   4.5  8.87   \n",
       "3                 316          104                  3  3.0   3.5  8.00   \n",
       "4                 322          110                  3  3.5   2.5  8.67   \n",
       "5                 314          103                  2  2.0   3.0  8.21   \n",
       "\n",
       "            Research  Chance of Admit   \n",
       "Serial No.                              \n",
       "1                  1              0.92  \n",
       "2                  1              0.76  \n",
       "3                  1              0.72  \n",
       "4                  1              0.80  \n",
       "5                  0              0.65  "
      ]
     },
     "execution_count": 3,
     "metadata": {},
     "output_type": "execute_result"
    }
   ],
   "source": [
    "# Carga de datos de archivo .csv\n",
    "data = pd.read_csv('https://raw.githubusercontent.com/albahnsen/MIAD_ML_and_NLP/main/datasets/universityGraduateAdmissions.csv', index_col=0)\n",
    "data.head()"
   ]
  },
  {
   "cell_type": "code",
   "execution_count": 4,
   "metadata": {},
   "outputs": [
    {
     "data": {
      "image/png": "[encoded data removed]",
      "text/plain": [
       "<Figure size 1500x1500 with 9 Axes>"
      ]
     },
     "metadata": {},
     "output_type": "display_data"
    }
   ],
   "source": [
    "# Hitogramas de las varaibles del dataset\n",
    "data.hist(bins=25, figsize=(15,15))\n",
    "plt.show()"
   ]
  },
  {
   "cell_type": "code",
   "execution_count": 5,
   "metadata": {},
   "outputs": [],
   "source": [
    "# Definición de variables predictoras (X)\n",
    "X = data.drop(data.columns[-1], axis=1)\n",
    "# Definición de variable de interés (y)\n",
    "Y = data[data.columns[-1]]"
   ]
  },
  {
   "cell_type": "code",
   "execution_count": 6,
   "metadata": {},
   "outputs": [],
   "source": [
    "# Separación de variables predictoras (X) y variable de interés (y) en set de entrenamiento y test usandola función train_test_split\n",
    "xTrain, xTest, yTrain, yTest = train_test_split(X,Y,test_size=0.3, random_state=22)"
   ]
  },
  {
   "cell_type": "markdown",
   "metadata": {},
   "source": [
    "## Punto 1 - Red Neuronal de una capa\n",
    "\n",
    "En la celda 1 creen una **red neuronal de una capa** con la librería Keras, que prediga la probabilidad de admisión de los estudiantes, usando los sets de entrenamiento y test definidos anteriormente. Pueden usar la función de perdida, el optimizador y el número de épocas que consideren pertinentes para el modelo, justificando su selección. Finalmente, grafiquen la pérdida del modelo vs el número de épocas en el set de entrenamiento y validación, y presenten el desempeño del modelo con las métricas error absoluto medio (MAE) y error cuadrático medio (MSE)."
   ]
  },
  {
   "cell_type": "code",
   "execution_count": 7,
   "metadata": {},
   "outputs": [],
   "source": [
    "# Normalización de variables predictoras (X) con la función StandardScaler\n",
    "\n",
    "# Definición de la función StandardScaler\n",
    "scaler = StandardScaler()\n",
    "scaler.fit(X)\n",
    "\n",
    "# Transformación de los set de entrenamiento y test\n",
    "X_train = pd.DataFrame(data=scaler.transform(xTrain), columns=xTrain.columns, index=xTrain.index)\n",
    "X_test = pd.DataFrame(data=scaler.transform(xTest), columns=xTest.columns, index=xTest.index)\n",
    "\n",
    "X_train = np.array(X_train)\n",
    "Y_train = pd.DataFrame(data=yTrain, index=yTrain.index)\n",
    "Y_train = np.array(Y_train)\n",
    "\n",
    "X_test = np.array(X_test)\n",
    "Y_test = pd.DataFrame(data=yTest, index=yTest.index)\n",
    "Y_test = np.array(yTest)\n"
   ]
  },
  {
   "cell_type": "code",
   "execution_count": 8,
   "metadata": {},
   "outputs": [
    {
     "name": "stdout",
     "output_type": "stream",
     "text": [
      "1  output variables\n"
     ]
    }
   ],
   "source": [
    "# Definición de dimensiones de salida, varaibles de interés\n",
    "#Y_train = np.array(Y_train)\n",
    "output_var = Y_train.shape[1]\n",
    "print(output_var, ' output variables')"
   ]
  },
  {
   "cell_type": "code",
   "execution_count": 9,
   "metadata": {},
   "outputs": [
    {
     "name": "stdout",
     "output_type": "stream",
     "text": [
      "7 input variables\n"
     ]
    }
   ],
   "source": [
    "# Definición de dimensiones de entrada, varibles predictoras\n",
    "dims = X_train.shape[1]\n",
    "print(dims, 'input variables')"
   ]
  },
  {
   "cell_type": "code",
   "execution_count": 10,
   "metadata": {},
   "outputs": [
    {
     "name": "stdout",
     "output_type": "stream",
     "text": [
      "Model: \"sequential\"\n",
      "_________________________________________________________________\n",
      " Layer (type)                Output Shape              Param #   \n",
      "=================================================================\n",
      " dense (Dense)               (None, 1)                 8         \n",
      "                                                                 \n",
      "=================================================================\n",
      "Total params: 8\n",
      "Trainable params: 8\n",
      "Non-trainable params: 0\n",
      "_________________________________________________________________\n",
      "None\n"
     ]
    }
   ],
   "source": [
    "K.clear_session()\n",
    "\n",
    "# Definición red neuronal con la función Sequential()\n",
    "model = Sequential()\n",
    "# Definición de la capa densa con un tamaño de salida igual a output_var y un input_shape de dims\n",
    "model.add(Dense(output_var, input_shape=(dims,)))\n",
    "\n",
    "# Impresión de la arquitectura de la red neuronal\n",
    "print(model.summary())"
   ]
  },
  {
   "cell_type": "code",
   "execution_count": 11,
   "metadata": {},
   "outputs": [],
   "source": [
    "# Definición de función de perdida. Se usa mean_squared_error dado que es un ejercicio de regresión\n",
    "model.compile(optimizer='sgd', loss='mean_squared_error')"
   ]
  },
  {
   "cell_type": "code",
   "execution_count": 12,
   "metadata": {},
   "outputs": [
    {
     "data": {
      "image/png": "[encoded data removed]",
      "text/plain": [
       "<Figure size 1200x800 with 2 Axes>"
      ]
     },
     "metadata": {},
     "output_type": "display_data"
    },
    {
     "name": "stdout",
     "output_type": "stream",
     "text": [
      "Loss\n",
      "\ttraining         \t (min:    0.004, max:    1.590, cur:    0.004)\n",
      "\tvalidation       \t (min:    0.003, max:    0.928, cur:    0.003)\n",
      "\b\b\b\b\b\b\b\b\b\b\b\b\b\b\b\b\b\b\b\b\b\b\b\b\b\b\b\b\b\b\b\b\b\b\b\b\b\b\b\b\b\b\b\b\b\b\b\b\b\b\b\b\b\b\b\b\b\b\b\b\b\b\b\r",
      "11/11 [==============================] - 0s 18ms/step - loss: 0.0038 - val_loss: 0.0031\n"
     ]
    },
    {
     "data": {
      "text/plain": [
       "<keras.callbacks.History at 0x259c928f640>"
      ]
     },
     "execution_count": 12,
     "metadata": {},
     "output_type": "execute_result"
    }
   ],
   "source": [
    "# Entrenamiento de la red neuronal con 50 épocas y después con 100\n",
    "model.fit(X_train, Y_train, \n",
    "          verbose=1, \n",
    "          epochs=100, \n",
    "          validation_data=(X_test, Y_test),\n",
    "          callbacks=[PlotLossesKeras()])"
   ]
  },
  {
   "cell_type": "markdown",
   "metadata": {},
   "source": [
    "Definimos un modelo tipo secuencial, en donde secuencialmente vamos poniendo cuáles son las diferentes capas que tiene nuestra red. Nuestro optimizador es Stochastic Gradient Descent, dado que es probable que este nos acerque a obtener un muy buen resultado.\n",
    "\n",
    "Le decimos al algoritmo que use 50 épocas para observar en la gráfica su comportamiento. En este caso, después de la época 20 la pérdida entre validación y entrenamiento comienza a estabilizarse; sin embargo, este sigue disminuyendo hasta que se llega a 50 épocas. Decidimos, por último, usar 100 épocas y observar si hay una estabilización más notoria. Cuando usamos 100 épocas, notamos que aproximadamente en 40 se estabiliza, no 20. "
   ]
  },
  {
   "cell_type": "markdown",
   "metadata": {},
   "source": [
    "## Usamos función earlystop"
   ]
  },
  {
   "cell_type": "code",
   "execution_count": 13,
   "metadata": {},
   "outputs": [],
   "source": [
    "K.clear_session()\n",
    "\n",
    "# Definición red neuronal con la función Sequential()\n",
    "model = Sequential()\n",
    "# Definición de la capa densa con un tamaño de salida igual a output_var y un input_shape de dims\n",
    "model.add(Dense(output_var, input_shape=(dims,)))\n",
    "# Definición de función de perdida. Se usa mean_squared_error dado que es un ejercicio de regresión\n",
    "model.compile(optimizer='sgd', loss='mean_squared_error')"
   ]
  },
  {
   "cell_type": "code",
   "execution_count": 14,
   "metadata": {},
   "outputs": [],
   "source": [
    "# Definición de la función EarlyStopping para considerar durante el entrenamiento\n",
    "early_stop = EarlyStopping(monitor='val_loss', patience=2, verbose=1)"
   ]
  },
  {
   "cell_type": "code",
   "execution_count": 15,
   "metadata": {},
   "outputs": [
    {
     "name": "stdout",
     "output_type": "stream",
     "text": [
      "Epoch 1/50\n",
      "3/3 [==============================] - 0s 55ms/step - loss: 0.9392 - val_loss: 0.8265\n",
      "Epoch 2/50\n",
      "3/3 [==============================] - 0s 18ms/step - loss: 0.8489 - val_loss: 0.7488\n",
      "Epoch 3/50\n",
      "3/3 [==============================] - 0s 17ms/step - loss: 0.7694 - val_loss: 0.6801\n",
      "Epoch 4/50\n",
      "3/3 [==============================] - 0s 18ms/step - loss: 0.6983 - val_loss: 0.6172\n",
      "Epoch 5/50\n",
      "3/3 [==============================] - 0s 20ms/step - loss: 0.6331 - val_loss: 0.5612\n",
      "Epoch 6/50\n",
      "3/3 [==============================] - 0s 20ms/step - loss: 0.5751 - val_loss: 0.5110\n",
      "Epoch 7/50\n",
      "3/3 [==============================] - 0s 27ms/step - loss: 0.5233 - val_loss: 0.4655\n",
      "Epoch 8/50\n",
      "3/3 [==============================] - 0s 20ms/step - loss: 0.4766 - val_loss: 0.4242\n",
      "Epoch 9/50\n",
      "3/3 [==============================] - 0s 18ms/step - loss: 0.4343 - val_loss: 0.3870\n",
      "Epoch 10/50\n",
      "3/3 [==============================] - 0s 18ms/step - loss: 0.3959 - val_loss: 0.3540\n",
      "Epoch 11/50\n",
      "3/3 [==============================] - 0s 19ms/step - loss: 0.3616 - val_loss: 0.3237\n",
      "Epoch 12/50\n",
      "3/3 [==============================] - 0s 18ms/step - loss: 0.3304 - val_loss: 0.2958\n",
      "Epoch 13/50\n",
      "3/3 [==============================] - 0s 18ms/step - loss: 0.3014 - val_loss: 0.2711\n",
      "Epoch 14/50\n",
      "3/3 [==============================] - 0s 17ms/step - loss: 0.2758 - val_loss: 0.2484\n",
      "Epoch 15/50\n",
      "3/3 [==============================] - 0s 18ms/step - loss: 0.2521 - val_loss: 0.2283\n",
      "Epoch 16/50\n",
      "3/3 [==============================] - 0s 18ms/step - loss: 0.2313 - val_loss: 0.2099\n",
      "Epoch 17/50\n",
      "3/3 [==============================] - 0s 17ms/step - loss: 0.2122 - val_loss: 0.1935\n",
      "Epoch 18/50\n",
      "3/3 [==============================] - 0s 17ms/step - loss: 0.1952 - val_loss: 0.1781\n",
      "Epoch 19/50\n",
      "3/3 [==============================] - 0s 17ms/step - loss: 0.1795 - val_loss: 0.1646\n",
      "Epoch 20/50\n",
      "3/3 [==============================] - 0s 18ms/step - loss: 0.1654 - val_loss: 0.1522\n",
      "Epoch 21/50\n",
      "3/3 [==============================] - 0s 17ms/step - loss: 0.1525 - val_loss: 0.1408\n",
      "Epoch 22/50\n",
      "3/3 [==============================] - 0s 18ms/step - loss: 0.1408 - val_loss: 0.1305\n",
      "Epoch 23/50\n",
      "3/3 [==============================] - 0s 17ms/step - loss: 0.1302 - val_loss: 0.1212\n",
      "Epoch 24/50\n",
      "3/3 [==============================] - 0s 17ms/step - loss: 0.1205 - val_loss: 0.1125\n",
      "Epoch 25/50\n",
      "3/3 [==============================] - 0s 17ms/step - loss: 0.1116 - val_loss: 0.1047\n",
      "Epoch 26/50\n",
      "3/3 [==============================] - 0s 17ms/step - loss: 0.1035 - val_loss: 0.0977\n",
      "Epoch 27/50\n",
      "3/3 [==============================] - 0s 17ms/step - loss: 0.0963 - val_loss: 0.0911\n",
      "Epoch 28/50\n",
      "3/3 [==============================] - 0s 18ms/step - loss: 0.0895 - val_loss: 0.0851\n",
      "Epoch 29/50\n",
      "3/3 [==============================] - 0s 18ms/step - loss: 0.0834 - val_loss: 0.0796\n",
      "Epoch 30/50\n",
      "3/3 [==============================] - 0s 18ms/step - loss: 0.0777 - val_loss: 0.0745\n",
      "Epoch 31/50\n",
      "3/3 [==============================] - 0s 19ms/step - loss: 0.0725 - val_loss: 0.0700\n",
      "Epoch 32/50\n",
      "3/3 [==============================] - 0s 19ms/step - loss: 0.0678 - val_loss: 0.0657\n",
      "Epoch 33/50\n",
      "3/3 [==============================] - 0s 19ms/step - loss: 0.0634 - val_loss: 0.0618\n",
      "Epoch 34/50\n",
      "3/3 [==============================] - 0s 20ms/step - loss: 0.0594 - val_loss: 0.0582\n",
      "Epoch 35/50\n",
      "3/3 [==============================] - 0s 18ms/step - loss: 0.0557 - val_loss: 0.0549\n",
      "Epoch 36/50\n",
      "3/3 [==============================] - 0s 17ms/step - loss: 0.0524 - val_loss: 0.0518\n",
      "Epoch 37/50\n",
      "3/3 [==============================] - 0s 19ms/step - loss: 0.0492 - val_loss: 0.0488\n",
      "Epoch 38/50\n",
      "3/3 [==============================] - 0s 17ms/step - loss: 0.0462 - val_loss: 0.0462\n",
      "Epoch 39/50\n",
      "3/3 [==============================] - 0s 18ms/step - loss: 0.0435 - val_loss: 0.0437\n",
      "Epoch 40/50\n",
      "3/3 [==============================] - 0s 17ms/step - loss: 0.0411 - val_loss: 0.0414\n",
      "Epoch 41/50\n",
      "3/3 [==============================] - 0s 18ms/step - loss: 0.0387 - val_loss: 0.0393\n",
      "Epoch 42/50\n",
      "3/3 [==============================] - 0s 17ms/step - loss: 0.0366 - val_loss: 0.0373\n",
      "Epoch 43/50\n",
      "3/3 [==============================] - 0s 17ms/step - loss: 0.0346 - val_loss: 0.0354\n",
      "Epoch 44/50\n",
      "3/3 [==============================] - 0s 17ms/step - loss: 0.0328 - val_loss: 0.0337\n",
      "Epoch 45/50\n",
      "3/3 [==============================] - 0s 17ms/step - loss: 0.0311 - val_loss: 0.0321\n",
      "Epoch 46/50\n",
      "3/3 [==============================] - 0s 17ms/step - loss: 0.0295 - val_loss: 0.0306\n",
      "Epoch 47/50\n",
      "3/3 [==============================] - 0s 17ms/step - loss: 0.0280 - val_loss: 0.0292\n",
      "Epoch 48/50\n",
      "3/3 [==============================] - 0s 17ms/step - loss: 0.0267 - val_loss: 0.0279\n",
      "Epoch 49/50\n",
      "3/3 [==============================] - 0s 18ms/step - loss: 0.0254 - val_loss: 0.0267\n",
      "Epoch 50/50\n",
      "3/3 [==============================] - 0s 16ms/step - loss: 0.0242 - val_loss: 0.0256\n"
     ]
    },
    {
     "data": {
      "text/plain": [
       "<keras.callbacks.History at 0x259c969d850>"
      ]
     },
     "execution_count": 15,
     "metadata": {},
     "output_type": "execute_result"
    }
   ],
   "source": [
    "# Definición de la función ModelCheckpoint para guardar el modelo con mejor desempeño\n",
    "fBestModel = 'best_model.h5'\n",
    "best_model = ModelCheckpoint(fBestModel, \n",
    "                             verbose=0, \n",
    "                             save_best_only=True)\n",
    "\n",
    "# Entrenamiento de la red neuronal con 50 épocas y early stopping\n",
    "model.fit(X_train, Y_train, \n",
    "          verbose=True, \n",
    "          epochs=50, \n",
    "          batch_size=128,\n",
    "          validation_data=(X_test,Y_test),\n",
    "          callbacks=[best_model, early_stop])"
   ]
  },
  {
   "cell_type": "code",
   "execution_count": 16,
   "metadata": {},
   "outputs": [],
   "source": [
    "K.clear_session()\n",
    "\n",
    "# Definición red neuronal con la función Sequential()\n",
    "model = Sequential()\n",
    "# Definición de la capa densa con un tamaño de salida igual a output_var y un input_shape de dims\n",
    "model.add(Dense(output_var, input_shape=(dims,)))\n",
    "# Definición de función de perdida. Usamos MAE\n",
    "model.compile(optimizer='sgd', loss='mean_absolute_error')"
   ]
  },
  {
   "cell_type": "code",
   "execution_count": 17,
   "metadata": {},
   "outputs": [],
   "source": [
    "# Definición de la función EarlyStopping para considerar durante el entrenamiento\n",
    "early_stop = EarlyStopping(monitor='val_loss', patience=2, verbose=1)"
   ]
  },
  {
   "cell_type": "code",
   "execution_count": 18,
   "metadata": {},
   "outputs": [
    {
     "name": "stdout",
     "output_type": "stream",
     "text": [
      "Epoch 1/50\n",
      "3/3 [==============================] - 0s 63ms/step - loss: 1.0801 - val_loss: 0.9799\n",
      "Epoch 2/50\n",
      "3/3 [==============================] - 0s 18ms/step - loss: 1.0469 - val_loss: 0.9483\n",
      "Epoch 3/50\n",
      "3/3 [==============================] - 0s 19ms/step - loss: 1.0150 - val_loss: 0.9189\n",
      "Epoch 4/50\n",
      "3/3 [==============================] - 0s 18ms/step - loss: 0.9856 - val_loss: 0.8924\n",
      "Epoch 5/50\n",
      "3/3 [==============================] - 0s 18ms/step - loss: 0.9572 - val_loss: 0.8672\n",
      "Epoch 6/50\n",
      "3/3 [==============================] - 0s 18ms/step - loss: 0.9298 - val_loss: 0.8423\n",
      "Epoch 7/50\n",
      "3/3 [==============================] - 0s 17ms/step - loss: 0.9035 - val_loss: 0.8188\n",
      "Epoch 8/50\n",
      "3/3 [==============================] - 0s 17ms/step - loss: 0.8787 - val_loss: 0.7974\n",
      "Epoch 9/50\n",
      "3/3 [==============================] - 0s 17ms/step - loss: 0.8547 - val_loss: 0.7777\n",
      "Epoch 10/50\n",
      "3/3 [==============================] - 0s 17ms/step - loss: 0.8324 - val_loss: 0.7588\n",
      "Epoch 11/50\n",
      "3/3 [==============================] - 0s 18ms/step - loss: 0.8105 - val_loss: 0.7412\n",
      "Epoch 12/50\n",
      "3/3 [==============================] - 0s 16ms/step - loss: 0.7891 - val_loss: 0.7248\n",
      "Epoch 13/50\n",
      "3/3 [==============================] - 0s 16ms/step - loss: 0.7688 - val_loss: 0.7088\n",
      "Epoch 14/50\n",
      "3/3 [==============================] - 0s 16ms/step - loss: 0.7490 - val_loss: 0.6935\n",
      "Epoch 15/50\n",
      "3/3 [==============================] - 0s 19ms/step - loss: 0.7305 - val_loss: 0.6789\n",
      "Epoch 16/50\n",
      "3/3 [==============================] - 0s 17ms/step - loss: 0.7117 - val_loss: 0.6647\n",
      "Epoch 17/50\n",
      "3/3 [==============================] - 0s 17ms/step - loss: 0.6939 - val_loss: 0.6519\n",
      "Epoch 18/50\n",
      "3/3 [==============================] - 0s 18ms/step - loss: 0.6770 - val_loss: 0.6398\n",
      "Epoch 19/50\n",
      "3/3 [==============================] - 0s 17ms/step - loss: 0.6616 - val_loss: 0.6280\n",
      "Epoch 20/50\n",
      "3/3 [==============================] - 0s 18ms/step - loss: 0.6460 - val_loss: 0.6165\n",
      "Epoch 21/50\n",
      "3/3 [==============================] - 0s 19ms/step - loss: 0.6311 - val_loss: 0.6048\n",
      "Epoch 22/50\n",
      "3/3 [==============================] - 0s 18ms/step - loss: 0.6175 - val_loss: 0.5937\n",
      "Epoch 23/50\n",
      "3/3 [==============================] - 0s 18ms/step - loss: 0.6043 - val_loss: 0.5827\n",
      "Epoch 24/50\n",
      "3/3 [==============================] - 0s 18ms/step - loss: 0.5912 - val_loss: 0.5719\n",
      "Epoch 25/50\n",
      "3/3 [==============================] - 0s 19ms/step - loss: 0.5785 - val_loss: 0.5612\n",
      "Epoch 26/50\n",
      "3/3 [==============================] - 0s 18ms/step - loss: 0.5659 - val_loss: 0.5502\n",
      "Epoch 27/50\n",
      "3/3 [==============================] - 0s 18ms/step - loss: 0.5536 - val_loss: 0.5396\n",
      "Epoch 28/50\n",
      "3/3 [==============================] - 0s 19ms/step - loss: 0.5416 - val_loss: 0.5283\n",
      "Epoch 29/50\n",
      "3/3 [==============================] - 0s 18ms/step - loss: 0.5297 - val_loss: 0.5176\n",
      "Epoch 30/50\n",
      "3/3 [==============================] - 0s 17ms/step - loss: 0.5181 - val_loss: 0.5074\n",
      "Epoch 31/50\n",
      "3/3 [==============================] - 0s 18ms/step - loss: 0.5069 - val_loss: 0.4962\n",
      "Epoch 32/50\n",
      "3/3 [==============================] - 0s 17ms/step - loss: 0.4957 - val_loss: 0.4857\n",
      "Epoch 33/50\n",
      "3/3 [==============================] - 0s 17ms/step - loss: 0.4855 - val_loss: 0.4763\n",
      "Epoch 34/50\n",
      "3/3 [==============================] - 0s 17ms/step - loss: 0.4739 - val_loss: 0.4663\n",
      "Epoch 35/50\n",
      "3/3 [==============================] - 0s 16ms/step - loss: 0.4635 - val_loss: 0.4559\n",
      "Epoch 36/50\n",
      "3/3 [==============================] - 0s 17ms/step - loss: 0.4529 - val_loss: 0.4460\n",
      "Epoch 37/50\n",
      "3/3 [==============================] - 0s 17ms/step - loss: 0.4430 - val_loss: 0.4362\n",
      "Epoch 38/50\n",
      "3/3 [==============================] - 0s 16ms/step - loss: 0.4339 - val_loss: 0.4265\n",
      "Epoch 39/50\n",
      "3/3 [==============================] - 0s 17ms/step - loss: 0.4238 - val_loss: 0.4172\n",
      "Epoch 40/50\n",
      "3/3 [==============================] - 0s 17ms/step - loss: 0.4149 - val_loss: 0.4077\n",
      "Epoch 41/50\n",
      "3/3 [==============================] - 0s 17ms/step - loss: 0.4053 - val_loss: 0.3985\n",
      "Epoch 42/50\n",
      "3/3 [==============================] - 0s 17ms/step - loss: 0.3966 - val_loss: 0.3904\n",
      "Epoch 43/50\n",
      "3/3 [==============================] - 0s 17ms/step - loss: 0.3876 - val_loss: 0.3822\n",
      "Epoch 44/50\n",
      "3/3 [==============================] - 0s 18ms/step - loss: 0.3793 - val_loss: 0.3739\n",
      "Epoch 45/50\n",
      "3/3 [==============================] - 0s 18ms/step - loss: 0.3705 - val_loss: 0.3660\n",
      "Epoch 46/50\n",
      "3/3 [==============================] - 0s 17ms/step - loss: 0.3626 - val_loss: 0.3595\n",
      "Epoch 47/50\n",
      "3/3 [==============================] - 0s 17ms/step - loss: 0.3544 - val_loss: 0.3525\n",
      "Epoch 48/50\n",
      "3/3 [==============================] - 0s 17ms/step - loss: 0.3467 - val_loss: 0.3441\n",
      "Epoch 49/50\n",
      "3/3 [==============================] - 0s 18ms/step - loss: 0.3391 - val_loss: 0.3361\n",
      "Epoch 50/50\n",
      "3/3 [==============================] - 0s 17ms/step - loss: 0.3317 - val_loss: 0.3282\n"
     ]
    },
    {
     "data": {
      "text/plain": [
       "<keras.callbacks.History at 0x259ca668760>"
      ]
     },
     "execution_count": 18,
     "metadata": {},
     "output_type": "execute_result"
    }
   ],
   "source": [
    "# Definición de la función ModelCheckpoint para guardar el modelo con mejor desempeño\n",
    "fBestModel = 'best_model.h5'\n",
    "best_model = ModelCheckpoint(fBestModel, \n",
    "                             verbose=0, \n",
    "                             save_best_only=True)\n",
    "\n",
    "# Entrenamiento de la red neuronal con 50 épocas y early stopping\n",
    "model.fit(X_train, Y_train, \n",
    "          verbose=True, \n",
    "          epochs=50, \n",
    "          batch_size=128,\n",
    "          validation_data=(X_test,Y_test),\n",
    "          callbacks=[best_model, early_stop])"
   ]
  },
  {
   "cell_type": "markdown",
   "metadata": {},
   "source": [
    "Para salir de dudas, usamos una función earlystop para evaluar hasta que época hay pérdida y, por último, si esta se estabiliza no siga evaluando épocas. En este caso si la pérdida en validación (monitor=\"val_loss\") no cambia por 2 períodos o por 2 épocas (patience=2), este le dice al algoritmo que no se entrene más. En primer lugar, con una medición del MSE y MAE evaluamos la pérdida en validación y entrenamiento con 50 épocas dado que se estabiliza por los lados de 40.\n",
    "\n",
    "MSE Validación: 0.026\n",
    "MSE Entrenamiento: 0.024\n",
    "\n",
    "MAE Validación: 0.33\n",
    "MAE Entrenamiento: 0.33"
   ]
  },
  {
   "cell_type": "markdown",
   "metadata": {},
   "source": [
    "## Punto 2 - Red Neuronal multicapa\n",
    "\n",
    "En la celda 2 creen una **red neuronal con dos capas** con la librería Keras, que prediga la probabilidad de admisión de los estudiantes usando los sets de entrenamiento y test definidos anteriormente. Pueden usar la función de perdida, el optimizador, el número de épocas y el número de neuronas que consideren pertinentes para el modelo, justificando su selección. Finalmente, grafiquen la pérdida del modelo vs el número de épocas en el set de entrenamiento y validación, y presenten el desempeño del modelo con las métricas error absoluto medio (MAE) y error cuadrático medio (MSE)."
   ]
  },
  {
   "cell_type": "code",
   "execution_count": 19,
   "metadata": {},
   "outputs": [],
   "source": [
    "# Celda 2\n"
   ]
  },
  {
   "cell_type": "markdown",
   "metadata": {},
   "source": [
    "## Punto 3  - Red Neuronal multicapa\n",
    "\n",
    "En la celda 3 creen **una red neuronal con más de una capa con la librería Keras, usando early stopping y dropout,** que prediga la probabilidad de admisión de los estudiantes con los sets de entrenamiento y test definidos anteriormente. Pueden usar la función de perdida, el optimizador, el número de épocas y el número de neuronas que consideren pertinentes para el modelo, justificando su selección. Finalmente, grafiquen la pérdida del modelo vs el número de épocas en el set de entrenamiento y validación, y presenten el desempeño del modelo con las métricas error absoluto medio (MAE) y error cuadrático medio (MSE)."
   ]
  },
  {
   "cell_type": "code",
   "execution_count": 20,
   "metadata": {},
   "outputs": [],
   "source": [
    "# Celda 3\n"
   ]
  },
  {
   "cell_type": "markdown",
   "metadata": {},
   "source": [
    "## Punto 4 - Comparación y análisis de resultados\n",
    "\n",
    "En la celda 4 comparen los resultados obtenidos de las diferentes redes y comenten las ventajas del mejor modelo y las desventajas del modelo con el menor desempeño."
   ]
  },
  {
   "cell_type": "code",
   "execution_count": 21,
   "metadata": {},
   "outputs": [],
   "source": [
    "# Celda 4\n"
   ]
  }
 ],
 "metadata": {
  "kernelspec": {
   "display_name": "Python 3 (ipykernel)",
   "language": "python",
   "name": "python3"
  },
  "language_info": {
   "codemirror_mode": {
    "name": "ipython",
    "version": 3
   },
   "file_extension": ".py",
   "mimetype": "text/x-python",
   "name": "python",
   "nbconvert_exporter": "python",
   "pygments_lexer": "ipython3",
   "version": "3.9.13"
  }
 },
 "nbformat": 4,
 "nbformat_minor": 2
}
